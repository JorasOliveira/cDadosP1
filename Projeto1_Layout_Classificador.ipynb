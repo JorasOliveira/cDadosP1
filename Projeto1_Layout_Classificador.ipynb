{
 "cells": [
  {
   "cell_type": "markdown",
   "metadata": {},
   "source": [
    "# Projeto 1 - Ciência dos Dados"
   ]
  },
  {
   "cell_type": "markdown",
   "metadata": {},
   "source": [
    "Nome: Diogo dos Reis Duarte\n",
    "\n",
    "Nome: Jorás Custodio Campos"
   ]
  },
  {
   "cell_type": "markdown",
   "metadata": {},
   "source": [
    "Atenção: Serão permitidos grupos de três pessoas, mas com uma rubrica mais exigente. Grupos deste tamanho precisarão fazer um questionário de avaliação de trabalho em equipe"
   ]
  },
  {
   "cell_type": "markdown",
   "metadata": {},
   "source": [
    "___\n",
    "Carregando algumas bibliotecas:"
   ]
  },
  {
   "cell_type": "code",
   "execution_count": 1,
   "metadata": {},
   "outputs": [
    {
     "name": "stdout",
     "output_type": "stream",
     "text": [
      "Collecting emoji\n",
      "\u001b[?25l  Downloading https://files.pythonhosted.org/packages/24/fa/b3368f41b95a286f8d300e323449ab4e86b85334c2e0b477e94422b8ed0f/emoji-1.2.0-py3-none-any.whl (131kB)\n",
      "\u001b[K     |████████████████████████████████| 133kB 9.1MB/s eta 0:00:01\n",
      "\u001b[?25hInstalling collected packages: emoji\n",
      "Successfully installed emoji-1.2.0\n"
     ]
    }
   ],
   "source": [
    "%matplotlib inline\n",
    "!pip install emoji\n",
    "import pandas as pd\n",
    "import matplotlib.pyplot as plt\n",
    "import numpy as np\n",
    "import os\n",
    "from emoji import UNICODE_EMOJI"
   ]
  },
  {
   "cell_type": "code",
   "execution_count": 2,
   "metadata": {},
   "outputs": [
    {
     "name": "stdout",
     "output_type": "stream",
     "text": [
      "Esperamos trabalhar no diretório\n",
      "/Users/Diogo/Insper_CD_2021/Projeto 1\n"
     ]
    }
   ],
   "source": [
    "print('Esperamos trabalhar no diretório')\n",
    "print(os.getcwd())"
   ]
  },
  {
   "cell_type": "markdown",
   "metadata": {},
   "source": [
    "Carregando a base de dados com os tweets classificados como relevantes e não relevantes:"
   ]
  },
  {
   "cell_type": "code",
   "execution_count": 3,
   "metadata": {},
   "outputs": [
    {
     "name": "stdout",
     "output_type": "stream",
     "text": [
      "Encontrei o arquivo PS5.xlsx, tudo certo para prosseguir com a prova!\n"
     ]
    }
   ],
   "source": [
    "import os\n",
    "\n",
    "filename = 'PS5.xlsx'\n",
    "if filename in os.listdir():\n",
    "    print(f'Encontrei o arquivo {filename}, tudo certo para prosseguir com a prova!')\n",
    "else:\n",
    "    print(f'Não encontrei o arquivo {filename} aqui no diretório {os.getcwd()}, será que você não baixou o arquivo?')"
   ]
  },
  {
   "cell_type": "code",
   "execution_count": 4,
   "metadata": {},
   "outputs": [
    {
     "data": {
      "text/html": [
       "<div>\n",
       "<style scoped>\n",
       "    .dataframe tbody tr th:only-of-type {\n",
       "        vertical-align: middle;\n",
       "    }\n",
       "\n",
       "    .dataframe tbody tr th {\n",
       "        vertical-align: top;\n",
       "    }\n",
       "\n",
       "    .dataframe thead th {\n",
       "        text-align: right;\n",
       "    }\n",
       "</style>\n",
       "<table border=\"1\" class=\"dataframe\">\n",
       "  <thead>\n",
       "    <tr style=\"text-align: right;\">\n",
       "      <th></th>\n",
       "      <th>Treinamento</th>\n",
       "      <th>Classificação</th>\n",
       "    </tr>\n",
       "  </thead>\n",
       "  <tbody>\n",
       "    <tr>\n",
       "      <td>0</td>\n",
       "      <td>@bossupbaby_ if you still need a ps5, i got mi...</td>\n",
       "      <td>P</td>\n",
       "    </tr>\n",
       "    <tr>\n",
       "      <td>1</td>\n",
       "      <td>@ketan_patel07 @target same! i’m still mad the...</td>\n",
       "      <td>R</td>\n",
       "    </tr>\n",
       "    <tr>\n",
       "      <td>2</td>\n",
       "      <td>my brother got himself a ps5... consider me je...</td>\n",
       "      <td>R</td>\n",
       "    </tr>\n",
       "    <tr>\n",
       "      <td>3</td>\n",
       "      <td>silent hill’s keiichiro toyama is working with...</td>\n",
       "      <td>I</td>\n",
       "    </tr>\n",
       "    <tr>\n",
       "      <td>4</td>\n",
       "      <td>@awesomejon21 bruh 20 on the ps5 will make you...</td>\n",
       "      <td>P</td>\n",
       "    </tr>\n",
       "  </tbody>\n",
       "</table>\n",
       "</div>"
      ],
      "text/plain": [
       "                                         Treinamento Classificação\n",
       "0  @bossupbaby_ if you still need a ps5, i got mi...             P\n",
       "1  @ketan_patel07 @target same! i’m still mad the...             R\n",
       "2  my brother got himself a ps5... consider me je...             R\n",
       "3  silent hill’s keiichiro toyama is working with...             I\n",
       "4  @awesomejon21 bruh 20 on the ps5 will make you...             P"
      ]
     },
     "execution_count": 4,
     "metadata": {},
     "output_type": "execute_result"
    }
   ],
   "source": [
    "train = pd.read_excel(filename)\n",
    "train.head(5)"
   ]
  },
  {
   "cell_type": "code",
   "execution_count": 5,
   "metadata": {},
   "outputs": [
    {
     "data": {
      "text/html": [
       "<div>\n",
       "<style scoped>\n",
       "    .dataframe tbody tr th:only-of-type {\n",
       "        vertical-align: middle;\n",
       "    }\n",
       "\n",
       "    .dataframe tbody tr th {\n",
       "        vertical-align: top;\n",
       "    }\n",
       "\n",
       "    .dataframe thead th {\n",
       "        text-align: right;\n",
       "    }\n",
       "</style>\n",
       "<table border=\"1\" class=\"dataframe\">\n",
       "  <thead>\n",
       "    <tr style=\"text-align: right;\">\n",
       "      <th></th>\n",
       "      <th>Teste</th>\n",
       "      <th>Classificação</th>\n",
       "    </tr>\n",
       "  </thead>\n",
       "  <tbody>\n",
       "    <tr>\n",
       "      <td>0</td>\n",
       "      <td>waited 4 months for the ps5 controller chargin...</td>\n",
       "      <td>R</td>\n",
       "    </tr>\n",
       "    <tr>\n",
       "      <td>1</td>\n",
       "      <td>@mattswider thanks to you my ps5 finally came ...</td>\n",
       "      <td>I</td>\n",
       "    </tr>\n",
       "    <tr>\n",
       "      <td>2</td>\n",
       "      <td>all accessories up on playstation direct....co...</td>\n",
       "      <td>P</td>\n",
       "    </tr>\n",
       "    <tr>\n",
       "      <td>3</td>\n",
       "      <td>@mk2true you got any ps5 kicking about..</td>\n",
       "      <td>I</td>\n",
       "    </tr>\n",
       "    <tr>\n",
       "      <td>4</td>\n",
       "      <td>@romudeth i want sony to compete with bringing...</td>\n",
       "      <td>R</td>\n",
       "    </tr>\n",
       "  </tbody>\n",
       "</table>\n",
       "</div>"
      ],
      "text/plain": [
       "                                               Teste Classificação\n",
       "0  waited 4 months for the ps5 controller chargin...             R\n",
       "1  @mattswider thanks to you my ps5 finally came ...             I\n",
       "2  all accessories up on playstation direct....co...             P\n",
       "3           @mk2true you got any ps5 kicking about..             I\n",
       "4  @romudeth i want sony to compete with bringing...             R"
      ]
     },
     "execution_count": 5,
     "metadata": {},
     "output_type": "execute_result"
    }
   ],
   "source": [
    "test = pd.read_excel(filename, sheet_name = 'Teste')\n",
    "test.head(5)"
   ]
  },
  {
   "cell_type": "markdown",
   "metadata": {},
   "source": [
    "___\n",
    "## Classificador automático de sentimento\n"
   ]
  },
  {
   "cell_type": "markdown",
   "metadata": {},
   "source": [
    "Faça aqui uma descrição do seu produto e o que considerou como relevante ou não relevante na classificação dos tweets.\n",
    "\n",
    "O produto a ser analisado será o novo console da Sony, o Playstation 5. Ao analisar os tweets, conseguimos encontrar 3 padrões, os quais avaliamos os nossos tweets. Estes foram (R) de relevante, que são tweets que trazem discussões e opiniões a cerca do produto, (P) de pouco relevante, que são os tweets que fazem propagandas do produto junto com outros itens adjacentes, como por exemplo acessórios (fones, headset, controles) ou jogos, ou tweets que se remetem a vendas a cerca do produto, e (I) de irrelevante, que são tweets que não se encaixam nos padrões mencionados, ou que simplesmente não fala do produto."
   ]
  },
  {
   "cell_type": "markdown",
   "metadata": {},
   "source": [
    "___\n",
    "### Montando um Classificador Naive-Bayes\n",
    "\n",
    "Considerando apenas as mensagens da planilha Treinamento, ensine  seu classificador."
   ]
  },
  {
   "cell_type": "code",
   "execution_count": 6,
   "metadata": {},
   "outputs": [],
   "source": [
    "def separate_emoji(text): #separa emojis dos outros caracteres\n",
    "    return ''.join(' ' + char if char in UNICODE_EMOJI else char for char in text).strip() #caso seja um emoji, adiciona um espaco, caso nao seja, apenas retorna a letra."
   ]
  },
  {
   "cell_type": "code",
   "execution_count": 7,
   "metadata": {},
   "outputs": [],
   "source": [
    "chars = [\",\", \"'\", '\"', \".\", \"!\", \"?\", \";\", \":\", \"[\", \"]\",\"{\", \"}\", \"(\", \")\", \"#\", \"/\",  \"\\\\\", \"https\",\"+\", \"@\", \"*\", \"-\"] \n",
    "word_count = dict()\n",
    "total = 0 #total de palavras no banco de dados\n",
    "\n",
    "train.Classificação = train.Classificação.apply(lambda x: x.upper())\n",
    "for i, tweet in train.iterrows(): #iterando a base de dados\n",
    "    piu = tweet.Treinamento #carregando apenas os tweets\n",
    "    \n",
    "    for c in chars: #iterando a listad e cacarteres p/ remover\n",
    "        piu = piu.replace(c, \" \") #trocando os caracteres por \" \"\n",
    "        \n",
    "    for word in separate_emoji(piu).split(): #splitando os tweets em palavras e emojis separadamente\n",
    "        word_count[word] = word_count.get(word, {'I':0, 'P':0, 'R':0}) #garantindo que  a palavra existe no dicionario, caso nao exista ela eh criada\n",
    "        word_count[word][tweet.Classificação] += 1 #incrementando o contador do valor correto\n",
    "        total += 1\n",
    "        \n",
    "I = {word: word_count[word]['I'] for word in word_count if word_count[word]['I'] > 0} #I contem todas as palavras Irrelevantes, seu sum(I.values) == total de palavras Irrelevantes\n",
    "P = {word: word_count[word]['P'] for word in word_count if word_count[word]['P'] > 0} #P contem todas as palavras Pouco relevantes, seu sum(P.values) == total de palavras Pouco relevantes\n",
    "R = {word: word_count[word]['R'] for word in word_count if word_count[word]['R'] > 0} #R contem todas as palavras Relevantes, seu sum(R.values) == total de palavras Relevantes"
   ]
  },
  {
   "cell_type": "code",
   "execution_count": null,
   "metadata": {},
   "outputs": [],
   "source": []
  },
  {
   "cell_type": "markdown",
   "metadata": {},
   "source": [
    "___\n",
    "### Verificando a performance do Classificador\n",
    "\n",
    "Agora você deve testar o seu classificador com a base de Testes."
   ]
  },
  {
   "cell_type": "code",
   "execution_count": 8,
   "metadata": {},
   "outputs": [
    {
     "name": "stderr",
     "output_type": "stream",
     "text": [
      "/Users/Diogo/opt/anaconda3/lib/python3.7/site-packages/ipykernel_launcher.py:50: RuntimeWarning: overflow encountered in long_scalars\n",
      "/Users/Diogo/opt/anaconda3/lib/python3.7/site-packages/ipykernel_launcher.py:55: RuntimeWarning: overflow encountered in long_scalars\n",
      "/Users/Diogo/opt/anaconda3/lib/python3.7/site-packages/ipykernel_launcher.py:45: RuntimeWarning: overflow encountered in long_scalars\n"
     ]
    },
    {
     "data": {
      "text/html": [
       "<div>\n",
       "<style scoped>\n",
       "    .dataframe tbody tr th:only-of-type {\n",
       "        vertical-align: middle;\n",
       "    }\n",
       "\n",
       "    .dataframe tbody tr th {\n",
       "        vertical-align: top;\n",
       "    }\n",
       "\n",
       "    .dataframe thead th {\n",
       "        text-align: right;\n",
       "    }\n",
       "</style>\n",
       "<table border=\"1\" class=\"dataframe\">\n",
       "  <thead>\n",
       "    <tr style=\"text-align: right;\">\n",
       "      <th></th>\n",
       "      <th>Teste</th>\n",
       "      <th>Classificação</th>\n",
       "      <th>Classificação_A</th>\n",
       "    </tr>\n",
       "  </thead>\n",
       "  <tbody>\n",
       "    <tr>\n",
       "      <td>0</td>\n",
       "      <td>waited 4 months for the ps5 controller chargin...</td>\n",
       "      <td>R</td>\n",
       "      <td>R</td>\n",
       "    </tr>\n",
       "    <tr>\n",
       "      <td>1</td>\n",
       "      <td>@mattswider thanks to you my ps5 finally came ...</td>\n",
       "      <td>I</td>\n",
       "      <td>P</td>\n",
       "    </tr>\n",
       "    <tr>\n",
       "      <td>2</td>\n",
       "      <td>all accessories up on playstation direct....co...</td>\n",
       "      <td>P</td>\n",
       "      <td>I</td>\n",
       "    </tr>\n",
       "    <tr>\n",
       "      <td>3</td>\n",
       "      <td>@mk2true you got any ps5 kicking about..</td>\n",
       "      <td>I</td>\n",
       "      <td>I</td>\n",
       "    </tr>\n",
       "    <tr>\n",
       "      <td>4</td>\n",
       "      <td>@romudeth i want sony to compete with bringing...</td>\n",
       "      <td>R</td>\n",
       "      <td>R</td>\n",
       "    </tr>\n",
       "    <tr>\n",
       "      <td>5</td>\n",
       "      <td>@littlemyuri @its_menieb @xboxgamepass @xbox o...</td>\n",
       "      <td>R</td>\n",
       "      <td>I</td>\n",
       "    </tr>\n",
       "    <tr>\n",
       "      <td>6</td>\n",
       "      <td>god of war 4 walkthrough last part secret endi...</td>\n",
       "      <td>P</td>\n",
       "      <td>P</td>\n",
       "    </tr>\n",
       "    <tr>\n",
       "      <td>7</td>\n",
       "      <td>@nsarmoredfrog awesome! this should to happen ...</td>\n",
       "      <td>R</td>\n",
       "      <td>I</td>\n",
       "    </tr>\n",
       "    <tr>\n",
       "      <td>8</td>\n",
       "      <td>@yukomama711 split the money if ya’ll win, if ...</td>\n",
       "      <td>P</td>\n",
       "      <td>I</td>\n",
       "    </tr>\n",
       "    <tr>\n",
       "      <td>9</td>\n",
       "      <td>#demonssouls #ps5 demon's souls ps5 #ps5share,...</td>\n",
       "      <td>P</td>\n",
       "      <td>P</td>\n",
       "    </tr>\n",
       "    <tr>\n",
       "      <td>10</td>\n",
       "      <td>@kfcgaming i’m surprised the first comment i s...</td>\n",
       "      <td>R</td>\n",
       "      <td>R</td>\n",
       "    </tr>\n",
       "    <tr>\n",
       "      <td>11</td>\n",
       "      <td>playstation plus - 3 month subscription uk ps4...</td>\n",
       "      <td>P</td>\n",
       "      <td>I</td>\n",
       "    </tr>\n",
       "    <tr>\n",
       "      <td>12</td>\n",
       "      <td>@anthonyanyon @youtube dont fall for that ps5 ...</td>\n",
       "      <td>R</td>\n",
       "      <td>I</td>\n",
       "    </tr>\n",
       "    <tr>\n",
       "      <td>13</td>\n",
       "      <td>ladies and gentlemen... we got him. #ps5 https...</td>\n",
       "      <td>I</td>\n",
       "      <td>I</td>\n",
       "    </tr>\n",
       "    <tr>\n",
       "      <td>14</td>\n",
       "      <td>i can’t even buy a ps5 cause of you rich assho...</td>\n",
       "      <td>P</td>\n",
       "      <td>P</td>\n",
       "    </tr>\n",
       "    <tr>\n",
       "      <td>15</td>\n",
       "      <td>ps5 vertical stand with 2 dualsense charging d...</td>\n",
       "      <td>P</td>\n",
       "      <td>I</td>\n",
       "    </tr>\n",
       "    <tr>\n",
       "      <td>16</td>\n",
       "      <td>@stebuu @swiftonsecurity the loads are ridicul...</td>\n",
       "      <td>R</td>\n",
       "      <td>R</td>\n",
       "    </tr>\n",
       "    <tr>\n",
       "      <td>17</td>\n",
       "      <td>@economicsno @toosxope @thesitesupply good for...</td>\n",
       "      <td>P</td>\n",
       "      <td>I</td>\n",
       "    </tr>\n",
       "    <tr>\n",
       "      <td>18</td>\n",
       "      <td>@vizio @viziosupport my tv is blacked out it w...</td>\n",
       "      <td>I</td>\n",
       "      <td>I</td>\n",
       "    </tr>\n",
       "    <tr>\n",
       "      <td>19</td>\n",
       "      <td>#live : fornite fr game abo partie perso pp #p...</td>\n",
       "      <td>I</td>\n",
       "      <td>I</td>\n",
       "    </tr>\n",
       "  </tbody>\n",
       "</table>\n",
       "</div>"
      ],
      "text/plain": [
       "                                                Teste Classificação  \\\n",
       "0   waited 4 months for the ps5 controller chargin...             R   \n",
       "1   @mattswider thanks to you my ps5 finally came ...             I   \n",
       "2   all accessories up on playstation direct....co...             P   \n",
       "3            @mk2true you got any ps5 kicking about..             I   \n",
       "4   @romudeth i want sony to compete with bringing...             R   \n",
       "5   @littlemyuri @its_menieb @xboxgamepass @xbox o...             R   \n",
       "6   god of war 4 walkthrough last part secret endi...             P   \n",
       "7   @nsarmoredfrog awesome! this should to happen ...             R   \n",
       "8   @yukomama711 split the money if ya’ll win, if ...             P   \n",
       "9   #demonssouls #ps5 demon's souls ps5 #ps5share,...             P   \n",
       "10  @kfcgaming i’m surprised the first comment i s...             R   \n",
       "11  playstation plus - 3 month subscription uk ps4...             P   \n",
       "12  @anthonyanyon @youtube dont fall for that ps5 ...             R   \n",
       "13  ladies and gentlemen... we got him. #ps5 https...             I   \n",
       "14  i can’t even buy a ps5 cause of you rich assho...             P   \n",
       "15  ps5 vertical stand with 2 dualsense charging d...             P   \n",
       "16  @stebuu @swiftonsecurity the loads are ridicul...             R   \n",
       "17  @economicsno @toosxope @thesitesupply good for...             P   \n",
       "18  @vizio @viziosupport my tv is blacked out it w...             I   \n",
       "19  #live : fornite fr game abo partie perso pp #p...             I   \n",
       "\n",
       "   Classificação_A  \n",
       "0                R  \n",
       "1                P  \n",
       "2                I  \n",
       "3                I  \n",
       "4                R  \n",
       "5                I  \n",
       "6                P  \n",
       "7                I  \n",
       "8                I  \n",
       "9                P  \n",
       "10               R  \n",
       "11               I  \n",
       "12               I  \n",
       "13               I  \n",
       "14               P  \n",
       "15               I  \n",
       "16               R  \n",
       "17               I  \n",
       "18               I  \n",
       "19               I  "
      ]
     },
     "execution_count": 8,
     "metadata": {},
     "output_type": "execute_result"
    }
   ],
   "source": [
    "# totalR = (sum(R.values())) #total de palavaras na categoria Relevante\n",
    "# totalP = (sum(P.values())) #total de palavaras na categoria Pouco Relevante\n",
    "# totalI = (sum(I.values())) #total de palavaras na categoria Irrelevante\n",
    "\n",
    "#como ja era um dicionario previamente, nao tem a necessidade de usar o comando value.counts(True)\n",
    "tabela_relativa_R = pd.Series(R)\n",
    "\n",
    "tabela_relativa_P = pd.Series(P)\n",
    "\n",
    "tabela_relativa_I = pd.Series(I)\n",
    "\n",
    "\n",
    "\n",
    "totalR = tabela_relativa_R.size #total de palavaras na categoria Relevante\n",
    "totalP = tabela_relativa_P.size #total de palavaras na categoria Pouco Relevante\n",
    "totalI = tabela_relativa_I.size #total de palavaras na categoria Irrelevante\n",
    "\n",
    "\n",
    "#Calculando o P(P), P(R) e P(I)\n",
    "probR = totalR/total\n",
    "\n",
    "probP = totalP/total\n",
    "\n",
    "probI = totalI/total\n",
    "\n",
    "l = [] #lista de classificacoes, mesma ordem da base test\n",
    "for i, tweet in test.iterrows(): #iterando a base de dados\n",
    "    \n",
    "    #inicializamos como 1 para nao dar erro na multiplicacao\n",
    "    probTweetR = 1  \n",
    "    probTweetP = 1\n",
    "    probTweetI = 1 \n",
    "    \n",
    "    piu = tweet.Teste #carregando apenas os tweets \n",
    "    \n",
    "    for c in chars: #iterando a listad e cacarteres p/ remover\n",
    "        piu = piu.replace(c, \" \") #trocando os caracteres por \" \"\n",
    "    \n",
    "    #splitando os tweets em palavras e emojis separadamente e calculando a probalidade de cada palavra de ser cada categoria, fazendo a suavizacao de laplace\n",
    "    for word in separate_emoji(piu).split(): \n",
    "        \n",
    "        #Calculando o P(T|P), P(T|R) e P(T|I)\n",
    "        #pega o erro de palavras que nao existem em uma das tabelas\n",
    "        try: \n",
    "            probTweetR *= tabela_relativa_R[word]\n",
    "        except:\n",
    "            pass\n",
    "        \n",
    "        try: \n",
    "            probTweetP *= tabela_relativa_P[word]\n",
    "        except:\n",
    "            pass\n",
    "        \n",
    "        try: \n",
    "            probTweetI *= tabela_relativa_I[word]\n",
    "        except:\n",
    "            pass\n",
    "\n",
    "    #calculando P(P|T), P(R|T), P(I|T)\n",
    "    probTweetR = probTweetR * probR\n",
    "    \n",
    "    probTweetP = probTweetP * probP\n",
    "    \n",
    "    probTweetI = probTweetI * probI\n",
    "    \n",
    "    result = {\"R\":probTweetR,\"P\":probTweetP,\"I\": probTweetI} #dicionario para a comparacao dentro do MAX abaixo\n",
    "    l.append(max(result, key = result.get)) #compara os valores de r, p, i, e adiciona correta a lista L \n",
    "\n",
    "test[\"Classificação_A\"] = l #adiciona a coluna classificacao a test, como a ordem eh a mesma, podemos adicionar.\n",
    "\n",
    "test.head(20)"
   ]
  },
  {
   "cell_type": "code",
   "execution_count": 15,
   "metadata": {},
   "outputs": [
    {
     "name": "stderr",
     "output_type": "stream",
     "text": [
      "/Users/Diogo/opt/anaconda3/lib/python3.7/site-packages/ipykernel_launcher.py:26: RuntimeWarning: overflow encountered in long_scalars\n",
      "/Users/Diogo/opt/anaconda3/lib/python3.7/site-packages/ipykernel_launcher.py:21: RuntimeWarning: overflow encountered in long_scalars\n",
      "/Users/Diogo/opt/anaconda3/lib/python3.7/site-packages/ipykernel_launcher.py:31: RuntimeWarning: overflow encountered in long_scalars\n"
     ]
    },
    {
     "data": {
      "text/html": [
       "<div>\n",
       "<style scoped>\n",
       "    .dataframe tbody tr th:only-of-type {\n",
       "        vertical-align: middle;\n",
       "    }\n",
       "\n",
       "    .dataframe tbody tr th {\n",
       "        vertical-align: top;\n",
       "    }\n",
       "\n",
       "    .dataframe thead th {\n",
       "        text-align: right;\n",
       "    }\n",
       "</style>\n",
       "<table border=\"1\" class=\"dataframe\">\n",
       "  <thead>\n",
       "    <tr style=\"text-align: right;\">\n",
       "      <th></th>\n",
       "      <th>Treinamento</th>\n",
       "      <th>Classificação</th>\n",
       "      <th>Classificação_A</th>\n",
       "    </tr>\n",
       "  </thead>\n",
       "  <tbody>\n",
       "    <tr>\n",
       "      <td>0</td>\n",
       "      <td>@bossupbaby_ if you still need a ps5, i got mi...</td>\n",
       "      <td>P</td>\n",
       "      <td>P</td>\n",
       "    </tr>\n",
       "    <tr>\n",
       "      <td>1</td>\n",
       "      <td>@ketan_patel07 @target same! i’m still mad the...</td>\n",
       "      <td>R</td>\n",
       "      <td>R</td>\n",
       "    </tr>\n",
       "    <tr>\n",
       "      <td>2</td>\n",
       "      <td>my brother got himself a ps5... consider me je...</td>\n",
       "      <td>R</td>\n",
       "      <td>I</td>\n",
       "    </tr>\n",
       "    <tr>\n",
       "      <td>3</td>\n",
       "      <td>silent hill’s keiichiro toyama is working with...</td>\n",
       "      <td>I</td>\n",
       "      <td>I</td>\n",
       "    </tr>\n",
       "    <tr>\n",
       "      <td>4</td>\n",
       "      <td>@awesomejon21 bruh 20 on the ps5 will make you...</td>\n",
       "      <td>P</td>\n",
       "      <td>I</td>\n",
       "    </tr>\n",
       "    <tr>\n",
       "      <td>5</td>\n",
       "      <td>.@officialteehub offers the best price on that...</td>\n",
       "      <td>I</td>\n",
       "      <td>I</td>\n",
       "    </tr>\n",
       "    <tr>\n",
       "      <td>6</td>\n",
       "      <td>@askplaystation the new ps5 that i gave my son...</td>\n",
       "      <td>R</td>\n",
       "      <td>I</td>\n",
       "    </tr>\n",
       "    <tr>\n",
       "      <td>7</td>\n",
       "      <td>@moonzugn been on twitter for years and all st...</td>\n",
       "      <td>P</td>\n",
       "      <td>I</td>\n",
       "    </tr>\n",
       "    <tr>\n",
       "      <td>8</td>\n",
       "      <td>@thesitesupply you got me a ps5,  now i need a...</td>\n",
       "      <td>P</td>\n",
       "      <td>P</td>\n",
       "    </tr>\n",
       "    <tr>\n",
       "      <td>9</td>\n",
       "      <td>@jacktheflippa probably wants a ps5 first</td>\n",
       "      <td>P</td>\n",
       "      <td>I</td>\n",
       "    </tr>\n",
       "    <tr>\n",
       "      <td>10</td>\n",
       "      <td>ps5 at sears @solelinks https://t.co/qjowhhgdaw</td>\n",
       "      <td>P</td>\n",
       "      <td>I</td>\n",
       "    </tr>\n",
       "    <tr>\n",
       "      <td>11</td>\n",
       "      <td>@alexac__ if you still need a ps5, i got mine ...</td>\n",
       "      <td>P</td>\n",
       "      <td>P</td>\n",
       "    </tr>\n",
       "    <tr>\n",
       "      <td>12</td>\n",
       "      <td>a 42gb game is taking over an hour and a half ...</td>\n",
       "      <td>R</td>\n",
       "      <td>I</td>\n",
       "    </tr>\n",
       "    <tr>\n",
       "      <td>13</td>\n",
       "      <td>@mattswider gone already. i never win. don't e...</td>\n",
       "      <td>I</td>\n",
       "      <td>I</td>\n",
       "    </tr>\n",
       "    <tr>\n",
       "      <td>14</td>\n",
       "      <td>@fadieecurly @mattswider which ps5</td>\n",
       "      <td>I</td>\n",
       "      <td>P</td>\n",
       "    </tr>\n",
       "    <tr>\n",
       "      <td>15</td>\n",
       "      <td>@mattswider got this and the remote. thanks ag...</td>\n",
       "      <td>P</td>\n",
       "      <td>P</td>\n",
       "    </tr>\n",
       "    <tr>\n",
       "      <td>16</td>\n",
       "      <td>@mattswider got it! this will go well with the...</td>\n",
       "      <td>P</td>\n",
       "      <td>R</td>\n",
       "    </tr>\n",
       "    <tr>\n",
       "      <td>17</td>\n",
       "      <td>i never realized buying a ps5 would be so diff...</td>\n",
       "      <td>R</td>\n",
       "      <td>P</td>\n",
       "    </tr>\n",
       "    <tr>\n",
       "      <td>18</td>\n",
       "      <td>[ps5] [1080p 60fps] first time playing crash b...</td>\n",
       "      <td>I</td>\n",
       "      <td>I</td>\n",
       "    </tr>\n",
       "    <tr>\n",
       "      <td>19</td>\n",
       "      <td>i officially joined ps5 gang. it’s been a hard...</td>\n",
       "      <td>P</td>\n",
       "      <td>R</td>\n",
       "    </tr>\n",
       "  </tbody>\n",
       "</table>\n",
       "</div>"
      ],
      "text/plain": [
       "                                          Treinamento Classificação  \\\n",
       "0   @bossupbaby_ if you still need a ps5, i got mi...             P   \n",
       "1   @ketan_patel07 @target same! i’m still mad the...             R   \n",
       "2   my brother got himself a ps5... consider me je...             R   \n",
       "3   silent hill’s keiichiro toyama is working with...             I   \n",
       "4   @awesomejon21 bruh 20 on the ps5 will make you...             P   \n",
       "5   .@officialteehub offers the best price on that...             I   \n",
       "6   @askplaystation the new ps5 that i gave my son...             R   \n",
       "7   @moonzugn been on twitter for years and all st...             P   \n",
       "8   @thesitesupply you got me a ps5,  now i need a...             P   \n",
       "9           @jacktheflippa probably wants a ps5 first             P   \n",
       "10    ps5 at sears @solelinks https://t.co/qjowhhgdaw             P   \n",
       "11  @alexac__ if you still need a ps5, i got mine ...             P   \n",
       "12  a 42gb game is taking over an hour and a half ...             R   \n",
       "13  @mattswider gone already. i never win. don't e...             I   \n",
       "14                 @fadieecurly @mattswider which ps5             I   \n",
       "15  @mattswider got this and the remote. thanks ag...             P   \n",
       "16  @mattswider got it! this will go well with the...             P   \n",
       "17  i never realized buying a ps5 would be so diff...             R   \n",
       "18  [ps5] [1080p 60fps] first time playing crash b...             I   \n",
       "19  i officially joined ps5 gang. it’s been a hard...             P   \n",
       "\n",
       "   Classificação_A  \n",
       "0                P  \n",
       "1                R  \n",
       "2                I  \n",
       "3                I  \n",
       "4                I  \n",
       "5                I  \n",
       "6                I  \n",
       "7                I  \n",
       "8                P  \n",
       "9                I  \n",
       "10               I  \n",
       "11               P  \n",
       "12               I  \n",
       "13               I  \n",
       "14               P  \n",
       "15               P  \n",
       "16               R  \n",
       "17               P  \n",
       "18               I  \n",
       "19               R  "
      ]
     },
     "execution_count": 15,
     "metadata": {},
     "output_type": "execute_result"
    }
   ],
   "source": [
    "l = [] #lista de classificacoes, mesma ordem da base test\n",
    "\n",
    "for i, tweet in train.iterrows(): #iterando a base de dados\n",
    "    \n",
    "    #inicializamos como 1 para nao dar erro na multiplicacao\n",
    "    probTweetR = 1  \n",
    "    probTweetP = 1\n",
    "    probTweetI = 1 \n",
    "    \n",
    "    piu = tweet.Treinamento #carregando apenas os tweets \n",
    "    \n",
    "    for c in chars: #iterando a lista de caracrteres p/ remover\n",
    "        piu = piu.replace(c, \" \") #trocando os caracteres por \" \"\n",
    "    \n",
    "    #splitando os tweets em palavras e emojis separadamente e calculando a probalidade de cada palavra de ser cada categoria, fazendo a suavizacao de laplace\n",
    "    for word in separate_emoji(piu).split(): \n",
    "        \n",
    "        #Calculando o P(T|P), P(T|R) e P(T|I)\n",
    "        #pega o erro de palavras que nao existem em uma das tabelas\n",
    "        try: \n",
    "            probTweetR *= tabela_relativa_R[word]\n",
    "        except:\n",
    "            pass\n",
    "        \n",
    "        try: \n",
    "            probTweetP *= tabela_relativa_P[word]\n",
    "        except:\n",
    "            pass\n",
    "        \n",
    "        try: \n",
    "            probTweetI *= tabela_relativa_I[word]\n",
    "        except:\n",
    "            pass\n",
    "\n",
    "    #calculando P(P|T), P(R|T), P(I|T)\n",
    "    probTweetR = probTweetR * probR\n",
    "    \n",
    "    probTweetP = probTweetP * probP\n",
    "    \n",
    "    probTweetI = probTweetI * probI\n",
    "    \n",
    "    result = {\"R\":probTweetR,\"P\":probTweetP,\"I\": probTweetI} #dicionario para a comparacao dentro do MAX abaixo\n",
    "    l.append(max(result, key = result.get)) #compara os valores de r, p, i, e adiciona correta a lista L \n",
    "\n",
    "train[\"Classificação_A\"] = l #adiciona a coluna classificacao a test, como a ordem eh a mesma, podemos adicionar.\n",
    "\n",
    "train.head(20)"
   ]
  },
  {
   "cell_type": "code",
   "execution_count": 16,
   "metadata": {},
   "outputs": [
    {
     "name": "stdout",
     "output_type": "stream",
     "text": [
      "P    0.396\n",
      "I    0.308\n",
      "R    0.296\n",
      "Name: Classificação, dtype: float64\n",
      "I    0.390\n",
      "P    0.356\n",
      "R    0.254\n",
      "Name: Classificação, dtype: float64\n"
     ]
    }
   ],
   "source": [
    "print(test.Classificação.value_counts(normalize=True))\n",
    "print(train.Classificação.apply(lambda x: x.upper()).value_counts(normalize=True))"
   ]
  },
  {
   "cell_type": "code",
   "execution_count": 10,
   "metadata": {},
   "outputs": [
    {
     "name": "stdout",
     "output_type": "stream",
     "text": [
      "teste\n"
     ]
    },
    {
     "data": {
      "text/html": [
       "<div>\n",
       "<style scoped>\n",
       "    .dataframe tbody tr th:only-of-type {\n",
       "        vertical-align: middle;\n",
       "    }\n",
       "\n",
       "    .dataframe tbody tr th {\n",
       "        vertical-align: top;\n",
       "    }\n",
       "\n",
       "    .dataframe thead th {\n",
       "        text-align: right;\n",
       "    }\n",
       "</style>\n",
       "<table border=\"1\" class=\"dataframe\">\n",
       "  <thead>\n",
       "    <tr style=\"text-align: right;\">\n",
       "      <th>Classificação_A</th>\n",
       "      <th>I</th>\n",
       "      <th>P</th>\n",
       "      <th>R</th>\n",
       "    </tr>\n",
       "    <tr>\n",
       "      <th>Classificação</th>\n",
       "      <th></th>\n",
       "      <th></th>\n",
       "      <th></th>\n",
       "    </tr>\n",
       "  </thead>\n",
       "  <tbody>\n",
       "    <tr>\n",
       "      <td>I</td>\n",
       "      <td>55.84416</td>\n",
       "      <td>28.57143</td>\n",
       "      <td>15.58442</td>\n",
       "    </tr>\n",
       "    <tr>\n",
       "      <td>P</td>\n",
       "      <td>41.41414</td>\n",
       "      <td>36.36364</td>\n",
       "      <td>22.22222</td>\n",
       "    </tr>\n",
       "    <tr>\n",
       "      <td>R</td>\n",
       "      <td>36.48649</td>\n",
       "      <td>28.37838</td>\n",
       "      <td>35.13514</td>\n",
       "    </tr>\n",
       "  </tbody>\n",
       "</table>\n",
       "</div>"
      ],
      "text/plain": [
       "Classificação_A         I         P         R\n",
       "Classificação                                \n",
       "I                55.84416  28.57143  15.58442\n",
       "P                41.41414  36.36364  22.22222\n",
       "R                36.48649  28.37838  35.13514"
      ]
     },
     "execution_count": 10,
     "metadata": {},
     "output_type": "execute_result"
    }
   ],
   "source": [
    "print('teste')\n",
    "(pd.crosstab(test.Classificação,test.Classificação_A, normalize = 'index')*100).round(5)"
   ]
  },
  {
   "cell_type": "code",
   "execution_count": 13,
   "metadata": {},
   "outputs": [
    {
     "name": "stdout",
     "output_type": "stream",
     "text": [
      "teste - quantitativo\n"
     ]
    },
    {
     "data": {
      "text/html": [
       "<div>\n",
       "<style scoped>\n",
       "    .dataframe tbody tr th:only-of-type {\n",
       "        vertical-align: middle;\n",
       "    }\n",
       "\n",
       "    .dataframe tbody tr th {\n",
       "        vertical-align: top;\n",
       "    }\n",
       "\n",
       "    .dataframe thead th {\n",
       "        text-align: right;\n",
       "    }\n",
       "</style>\n",
       "<table border=\"1\" class=\"dataframe\">\n",
       "  <thead>\n",
       "    <tr style=\"text-align: right;\">\n",
       "      <th>Classificação_A</th>\n",
       "      <th>I</th>\n",
       "      <th>P</th>\n",
       "      <th>R</th>\n",
       "    </tr>\n",
       "    <tr>\n",
       "      <th>Classificação</th>\n",
       "      <th></th>\n",
       "      <th></th>\n",
       "      <th></th>\n",
       "    </tr>\n",
       "  </thead>\n",
       "  <tbody>\n",
       "    <tr>\n",
       "      <td>I</td>\n",
       "      <td>43</td>\n",
       "      <td>22</td>\n",
       "      <td>12</td>\n",
       "    </tr>\n",
       "    <tr>\n",
       "      <td>P</td>\n",
       "      <td>41</td>\n",
       "      <td>36</td>\n",
       "      <td>22</td>\n",
       "    </tr>\n",
       "    <tr>\n",
       "      <td>R</td>\n",
       "      <td>27</td>\n",
       "      <td>21</td>\n",
       "      <td>26</td>\n",
       "    </tr>\n",
       "  </tbody>\n",
       "</table>\n",
       "</div>"
      ],
      "text/plain": [
       "Classificação_A   I   P   R\n",
       "Classificação              \n",
       "I                43  22  12\n",
       "P                41  36  22\n",
       "R                27  21  26"
      ]
     },
     "execution_count": 13,
     "metadata": {},
     "output_type": "execute_result"
    }
   ],
   "source": [
    "print('teste - quantitativo')\n",
    "pd.crosstab(test.Classificação, test.Classificação_A)"
   ]
  },
  {
   "cell_type": "code",
   "execution_count": 17,
   "metadata": {},
   "outputs": [
    {
     "name": "stdout",
     "output_type": "stream",
     "text": [
      "treinamento\n"
     ]
    },
    {
     "data": {
      "text/html": [
       "<div>\n",
       "<style scoped>\n",
       "    .dataframe tbody tr th:only-of-type {\n",
       "        vertical-align: middle;\n",
       "    }\n",
       "\n",
       "    .dataframe tbody tr th {\n",
       "        vertical-align: top;\n",
       "    }\n",
       "\n",
       "    .dataframe thead th {\n",
       "        text-align: right;\n",
       "    }\n",
       "</style>\n",
       "<table border=\"1\" class=\"dataframe\">\n",
       "  <thead>\n",
       "    <tr style=\"text-align: right;\">\n",
       "      <th>Classificação_A</th>\n",
       "      <th>I</th>\n",
       "      <th>P</th>\n",
       "      <th>R</th>\n",
       "    </tr>\n",
       "    <tr>\n",
       "      <th>Classificação</th>\n",
       "      <th></th>\n",
       "      <th></th>\n",
       "      <th></th>\n",
       "    </tr>\n",
       "  </thead>\n",
       "  <tbody>\n",
       "    <tr>\n",
       "      <td>I</td>\n",
       "      <td>66.15385</td>\n",
       "      <td>25.12821</td>\n",
       "      <td>8.71795</td>\n",
       "    </tr>\n",
       "    <tr>\n",
       "      <td>P</td>\n",
       "      <td>26.96629</td>\n",
       "      <td>54.49438</td>\n",
       "      <td>18.53933</td>\n",
       "    </tr>\n",
       "    <tr>\n",
       "      <td>R</td>\n",
       "      <td>38.58268</td>\n",
       "      <td>22.83465</td>\n",
       "      <td>38.58268</td>\n",
       "    </tr>\n",
       "  </tbody>\n",
       "</table>\n",
       "</div>"
      ],
      "text/plain": [
       "Classificação_A         I         P         R\n",
       "Classificação                                \n",
       "I                66.15385  25.12821   8.71795\n",
       "P                26.96629  54.49438  18.53933\n",
       "R                38.58268  22.83465  38.58268"
      ]
     },
     "execution_count": 17,
     "metadata": {},
     "output_type": "execute_result"
    }
   ],
   "source": [
    "print('treinamento')\n",
    "(pd.crosstab(train.Classificação,train.Classificação_A, normalize = 'index')*100).round(5)"
   ]
  },
  {
   "cell_type": "code",
   "execution_count": 18,
   "metadata": {},
   "outputs": [
    {
     "name": "stdout",
     "output_type": "stream",
     "text": [
      "treinamento - quantitativo\n"
     ]
    },
    {
     "data": {
      "text/html": [
       "<div>\n",
       "<style scoped>\n",
       "    .dataframe tbody tr th:only-of-type {\n",
       "        vertical-align: middle;\n",
       "    }\n",
       "\n",
       "    .dataframe tbody tr th {\n",
       "        vertical-align: top;\n",
       "    }\n",
       "\n",
       "    .dataframe thead th {\n",
       "        text-align: right;\n",
       "    }\n",
       "</style>\n",
       "<table border=\"1\" class=\"dataframe\">\n",
       "  <thead>\n",
       "    <tr style=\"text-align: right;\">\n",
       "      <th>Classificação_A</th>\n",
       "      <th>I</th>\n",
       "      <th>P</th>\n",
       "      <th>R</th>\n",
       "    </tr>\n",
       "    <tr>\n",
       "      <th>Classificação</th>\n",
       "      <th></th>\n",
       "      <th></th>\n",
       "      <th></th>\n",
       "    </tr>\n",
       "  </thead>\n",
       "  <tbody>\n",
       "    <tr>\n",
       "      <td>I</td>\n",
       "      <td>129</td>\n",
       "      <td>49</td>\n",
       "      <td>17</td>\n",
       "    </tr>\n",
       "    <tr>\n",
       "      <td>P</td>\n",
       "      <td>48</td>\n",
       "      <td>97</td>\n",
       "      <td>33</td>\n",
       "    </tr>\n",
       "    <tr>\n",
       "      <td>R</td>\n",
       "      <td>49</td>\n",
       "      <td>29</td>\n",
       "      <td>49</td>\n",
       "    </tr>\n",
       "  </tbody>\n",
       "</table>\n",
       "</div>"
      ],
      "text/plain": [
       "Classificação_A    I   P   R\n",
       "Classificação               \n",
       "I                129  49  17\n",
       "P                 48  97  33\n",
       "R                 49  29  49"
      ]
     },
     "execution_count": 18,
     "metadata": {},
     "output_type": "execute_result"
    }
   ],
   "source": [
    "print('treinamento - quantitativo')\n",
    "pd.crosstab(train.Classificação, train.Classificação_A)"
   ]
  },
  {
   "cell_type": "markdown",
   "metadata": {},
   "source": [
    "___\n",
    "## Concluindo"
   ]
  },
  {
   "cell_type": "markdown",
   "metadata": {},
   "source": [
    "        Para concluir e finalizar o projeto, vamos analisar o nosso sistema de seleção de dados. Em relação ao nosso classificador, nós vemos que comparando a nossa classificação manual com o classificador, na base de dados de treino, 66,15% dos tweets irrelevantes se manteram na mesma posição, assim como 54,49% dos pouco relevantes e 38,58% dos relevantes. Enquanto isso na base de teste, 55,84% dos tweets irrelevantes se manteram na mesma posição, assim como 36,36% dos pouco relevantes e 35,13% dos relevantes. Esta discrepância pode ser explicada pelo relaxamento em nosso critério durante a classificação manual, e pelo fato de ser uma base de dados sendo classificada por 3 pessoas diferentes, em que cada uma pode possuir uma interpretação levemente diferente."
   ]
  },
  {
   "cell_type": "markdown",
   "metadata": {},
   "source": [
    "## Por que não posso usar o próprio classificador para gerar mais amostras de treinamento"
   ]
  },
  {
   "cell_type": "markdown",
   "metadata": {},
   "source": [
    "        Não se pode usar o classificador para gerar mais amostras de treinamento, pois estas são feitas por seres humanos que tem uma interpretação do que significa ser relevante, irrelevante ou pouco relevante, enquanto o classificador apenas considera a frequência da palavra no tweet e no banco de dados. Assim qualquer variação na rigorosidade cria um efeito exacerbado no resultado do classificador, e ao usá-lo para gerar novos treinamentos, os próprios erros do classificador serão considerados corretos, fazendo com que ao longo do tempo ele irá desviar cada vez mais do padrão original, tendendo para um resultado completamente fora do escopo incial."
   ]
  },
  {
   "cell_type": "markdown",
   "metadata": {},
   "source": [
    "## Propondo diferentes cenarios para utiliza o classificador Naive-Bayes:\n",
    "\n",
    "        Para melhorar o sistema de blacklist de sites para as redes de escolas, podemos adotar este método para banir sites de acordo com as palavras pesquisadas pelos alunos na internet.\n",
    "\n",
    "        Um cenário em que uma pessoa é suspeita de um crime, e há poucas provas e evidências, que mostram sua inocência ou culpa. Então, utilizamos o classificador para pegar as palavras mais usadas da pessoa em sites de pesquisa na internet, e passamos elas por um classificador treinado por palavras relevantes ao crime, para ver se a pessoa possui alguma pesquisa suspeita e que crie uma evidência contra ela"
   ]
  },
  {
   "cell_type": "markdown",
   "metadata": {},
   "source": [
    "## Sugestões e explicações de melhorias reais para o nosso classificador"
   ]
  },
  {
   "cell_type": "markdown",
   "metadata": {},
   "source": [
    "        Como nossas mensagens são em inglês, a dupla negação seria errado gramaticalmente, não sendo necessária um tratamento para esta questão. Em questão ao tratamento de mensagens sarcásticas,seria muito difícil identificar estas, uma vez que nas redes sociais não há intonação de fala, um dos principais recursos para identificar sarcasmos.\n",
    "Uma melhoria direta seria ultilizar um algoritmo que usa a frequência e quantidade de emojis nos tweets para identificar sarcasmo, um exemplo e pesquisa direta seria: https://www.media.mit.edu/articles/an-algorithm-trained-on-emoji-knows-when-you-re-being-sarcastic-on-twitter/\n",
    "\n"
   ]
  },
  {
   "cell_type": "markdown",
   "metadata": {},
   "source": [
    "        Em relação ao plano de expansão de nosso projeto, poderíamos tentar ver se conseguiriamos tratar as mensagens sarcásticas, visto que elas podem ter um padrão de palavras como “lol”, “kekw” ou simplesmente um “haha”. Mas tendo observado que estes termos podem estar em mensagens que contém conteúdo não sarcástico, um estudo sobre as mensagens seria importante para evitar este erro, e aumentar a precisão."
   ]
  },
  {
   "cell_type": "markdown",
   "metadata": {},
   "source": [
    "___\n",
    "### Qualidade do Classificador a partir de novas separações dos tweets entre Treinamento e Teste\n",
    "\n",
    "Caso for fazer esse item do Projeto"
   ]
  },
  {
   "cell_type": "code",
   "execution_count": null,
   "metadata": {},
   "outputs": [],
   "source": []
  },
  {
   "cell_type": "code",
   "execution_count": null,
   "metadata": {},
   "outputs": [],
   "source": []
  },
  {
   "cell_type": "code",
   "execution_count": null,
   "metadata": {},
   "outputs": [],
   "source": []
  },
  {
   "cell_type": "markdown",
   "metadata": {},
   "source": [
    "___\n",
    "## Aperfeiçoamento:\n",
    "\n",
    "Os trabalhos vão evoluir em conceito dependendo da quantidade de itens avançados:\n",
    "\n",
    "* Limpar: \\n, :, \", ', (, ), etc SEM remover emojis\n",
    "* Corrigir separação de espaços entre palavras e emojis ou entre emojis e emojis\n",
    "* Propor outras limpezas e transformações que não afetem a qualidade da informação ou classificação\n",
    "* Criar categorias intermediárias de relevância baseadas na probabilidade: ex.: muito relevante, relevante, neutro, irrelevante, muito irrelevante (3 categorias: C, mais categorias conta para B)\n",
    "* Explicar por que não posso usar o próprio classificador para gerar mais amostras de treinamento\n",
    "* Propor diferentes cenários para Naïve Bayes fora do contexto do projeto\n",
    "* Sugerir e explicar melhorias reais com indicações concretas de como implementar (indicar como fazer e indicar material de pesquisa)\n"
   ]
  },
  {
   "cell_type": "markdown",
   "metadata": {},
   "source": [
    "___\n",
    "## Referências"
   ]
  },
  {
   "cell_type": "markdown",
   "metadata": {},
   "source": [
    "[Naive Bayes and Text Classification](https://arxiv.org/pdf/1410.5329.pdf)  **Mais completo**\n",
    "\n",
    "[A practical explanation of a Naive Bayes Classifier](https://monkeylearn.com/blog/practical-explanation-naive-bayes-classifier/) **Mais simples**"
   ]
  },
  {
   "cell_type": "code",
   "execution_count": null,
   "metadata": {},
   "outputs": [],
   "source": []
  }
 ],
 "metadata": {
  "kernelspec": {
   "display_name": "Python 3",
   "language": "python",
   "name": "python3"
  },
  "language_info": {
   "codemirror_mode": {
    "name": "ipython",
    "version": 3
   },
   "file_extension": ".py",
   "mimetype": "text/x-python",
   "name": "python",
   "nbconvert_exporter": "python",
   "pygments_lexer": "ipython3",
   "version": "3.7.4"
  }
 },
 "nbformat": 4,
 "nbformat_minor": 4
}
